{
  "cells": [
    {
      "cell_type": "code",
      "execution_count": 1,
      "metadata": {
        "colab": {
          "base_uri": "https://localhost:8080/",
          "height": 73
        },
        "id": "wt7YXHtrqguD",
        "outputId": "0158ea54-80e3-4853-efc8-6fe5a2581b26"
      },
      "outputs": [
        {
          "ename": "ModuleNotFoundError",
          "evalue": "No module named 'google'",
          "output_type": "error",
          "traceback": [
            "\u001b[1;31m---------------------------------------------------------------------------\u001b[0m",
            "\u001b[1;31mModuleNotFoundError\u001b[0m                       Traceback (most recent call last)",
            "Cell \u001b[1;32mIn[1], line 1\u001b[0m\n\u001b[1;32m----> 1\u001b[0m \u001b[38;5;28;01mfrom\u001b[39;00m\u001b[38;5;250m \u001b[39m\u001b[38;5;21;01mgoogle\u001b[39;00m\u001b[38;5;21;01m.\u001b[39;00m\u001b[38;5;21;01mcolab\u001b[39;00m\u001b[38;5;250m \u001b[39m\u001b[38;5;28;01mimport\u001b[39;00m files\n\u001b[0;32m      2\u001b[0m uploaded \u001b[38;5;241m=\u001b[39m files\u001b[38;5;241m.\u001b[39mupload()\n",
            "\u001b[1;31mModuleNotFoundError\u001b[0m: No module named 'google'"
          ]
        }
      ],
      "source": [
        "from google.colab import files\n",
        "uploaded = files.upload()\n"
      ]
    },
    {
      "cell_type": "code",
      "execution_count": 1,
      "metadata": {},
      "outputs": [
        {
          "name": "stdout",
          "output_type": "stream",
          "text": [
            "Requirement already satisfied: wandb in c:\\users\\yindan\\miniconda3\\envs\\pytorchenv\\lib\\site-packages (0.20.1)\n",
            "Requirement already satisfied: click!=8.0.0,>=7.1 in c:\\users\\yindan\\miniconda3\\envs\\pytorchenv\\lib\\site-packages (from wandb) (8.2.1)\n",
            "Requirement already satisfied: gitpython!=3.1.29,>=1.0.0 in c:\\users\\yindan\\miniconda3\\envs\\pytorchenv\\lib\\site-packages (from wandb) (3.1.44)\n",
            "Requirement already satisfied: packaging in c:\\users\\yindan\\miniconda3\\envs\\pytorchenv\\lib\\site-packages (from wandb) (24.2)\n",
            "Requirement already satisfied: platformdirs in c:\\users\\yindan\\miniconda3\\envs\\pytorchenv\\lib\\site-packages (from wandb) (4.3.6)\n",
            "Requirement already satisfied: protobuf!=4.21.0,!=5.28.0,<7,>=3.19.0 in c:\\users\\yindan\\miniconda3\\envs\\pytorchenv\\lib\\site-packages (from wandb) (6.31.1)\n",
            "Requirement already satisfied: psutil>=5.0.0 in c:\\users\\yindan\\miniconda3\\envs\\pytorchenv\\lib\\site-packages (from wandb) (7.0.0)\n",
            "Requirement already satisfied: pydantic<3 in c:\\users\\yindan\\miniconda3\\envs\\pytorchenv\\lib\\site-packages (from wandb) (2.11.7)\n",
            "Requirement already satisfied: pyyaml in c:\\users\\yindan\\miniconda3\\envs\\pytorchenv\\lib\\site-packages (from wandb) (6.0.2)\n",
            "Requirement already satisfied: requests<3,>=2.0.0 in c:\\users\\yindan\\miniconda3\\envs\\pytorchenv\\lib\\site-packages (from wandb) (2.32.3)\n",
            "Requirement already satisfied: sentry-sdk>=2.0.0 in c:\\users\\yindan\\miniconda3\\envs\\pytorchenv\\lib\\site-packages (from wandb) (2.30.0)\n",
            "Requirement already satisfied: setproctitle in c:\\users\\yindan\\miniconda3\\envs\\pytorchenv\\lib\\site-packages (from wandb) (1.3.6)\n",
            "Requirement already satisfied: typing-extensions<5,>=4.8 in c:\\users\\yindan\\miniconda3\\envs\\pytorchenv\\lib\\site-packages (from wandb) (4.12.2)\n",
            "Requirement already satisfied: colorama in c:\\users\\yindan\\miniconda3\\envs\\pytorchenv\\lib\\site-packages (from click!=8.0.0,>=7.1->wandb) (0.4.6)\n",
            "Requirement already satisfied: gitdb<5,>=4.0.1 in c:\\users\\yindan\\miniconda3\\envs\\pytorchenv\\lib\\site-packages (from gitpython!=3.1.29,>=1.0.0->wandb) (4.0.12)\n",
            "Requirement already satisfied: annotated-types>=0.6.0 in c:\\users\\yindan\\miniconda3\\envs\\pytorchenv\\lib\\site-packages (from pydantic<3->wandb) (0.7.0)\n",
            "Requirement already satisfied: pydantic-core==2.33.2 in c:\\users\\yindan\\miniconda3\\envs\\pytorchenv\\lib\\site-packages (from pydantic<3->wandb) (2.33.2)\n",
            "Requirement already satisfied: typing-inspection>=0.4.0 in c:\\users\\yindan\\miniconda3\\envs\\pytorchenv\\lib\\site-packages (from pydantic<3->wandb) (0.4.1)\n",
            "Requirement already satisfied: charset-normalizer<4,>=2 in c:\\users\\yindan\\miniconda3\\envs\\pytorchenv\\lib\\site-packages (from requests<3,>=2.0.0->wandb) (3.4.1)\n",
            "Requirement already satisfied: idna<4,>=2.5 in c:\\users\\yindan\\miniconda3\\envs\\pytorchenv\\lib\\site-packages (from requests<3,>=2.0.0->wandb) (3.10)\n",
            "Requirement already satisfied: urllib3<3,>=1.21.1 in c:\\users\\yindan\\miniconda3\\envs\\pytorchenv\\lib\\site-packages (from requests<3,>=2.0.0->wandb) (2.3.0)\n",
            "Requirement already satisfied: certifi>=2017.4.17 in c:\\users\\yindan\\miniconda3\\envs\\pytorchenv\\lib\\site-packages (from requests<3,>=2.0.0->wandb) (2025.1.31)\n",
            "Requirement already satisfied: smmap<6,>=3.0.1 in c:\\users\\yindan\\miniconda3\\envs\\pytorchenv\\lib\\site-packages (from gitdb<5,>=4.0.1->gitpython!=3.1.29,>=1.0.0->wandb) (5.0.2)\n"
          ]
        }
      ],
      "source": [
        "!pip install wandb"
      ]
    },
    {
      "cell_type": "code",
      "execution_count": 21,
      "metadata": {
        "colab": {
          "base_uri": "https://localhost:8080/",
          "height": 191
        },
        "id": "Czo_euaBqsmq",
        "outputId": "63dcbcb2-8bf0-43a1-a622-3fe9041f4b36"
      },
      "outputs": [
        {
          "name": "stderr",
          "output_type": "stream",
          "text": [
            "wandb: WARNING Calling wandb.login() after wandb.init() has no effect.\n"
          ]
        },
        {
          "data": {
            "text/plain": [
              "True"
            ]
          },
          "execution_count": 21,
          "metadata": {},
          "output_type": "execute_result"
        }
      ],
      "source": [
        "\n",
        "import wandb\n",
        "wandb.login()\n"
      ]
    },
    {
      "cell_type": "code",
      "execution_count": 22,
      "metadata": {},
      "outputs": [
        {
          "data": {
            "text/html": [
              "Finishing previous runs because reinit is set to 'default'."
            ],
            "text/plain": [
              "<IPython.core.display.HTML object>"
            ]
          },
          "metadata": {},
          "output_type": "display_data"
        },
        {
          "data": {
            "text/html": [],
            "text/plain": [
              "<IPython.core.display.HTML object>"
            ]
          },
          "metadata": {},
          "output_type": "display_data"
        },
        {
          "data": {
            "text/html": [
              " View run <strong style=\"color:#cdcd00\">flowing-dragon-17</strong> at: <a href='https://wandb.ai/mayindan-university-of-bamberg/cifar10-HP-tuning-final/runs/2kfjkrfg' target=\"_blank\">https://wandb.ai/mayindan-university-of-bamberg/cifar10-HP-tuning-final/runs/2kfjkrfg</a><br> View project at: <a href='https://wandb.ai/mayindan-university-of-bamberg/cifar10-HP-tuning-final' target=\"_blank\">https://wandb.ai/mayindan-university-of-bamberg/cifar10-HP-tuning-final</a><br>Synced 5 W&B file(s), 0 media file(s), 0 artifact file(s) and 0 other file(s)"
            ],
            "text/plain": [
              "<IPython.core.display.HTML object>"
            ]
          },
          "metadata": {},
          "output_type": "display_data"
        },
        {
          "data": {
            "text/html": [
              "Find logs at: <code>.\\wandb\\run-20250711_235148-2kfjkrfg\\logs</code>"
            ],
            "text/plain": [
              "<IPython.core.display.HTML object>"
            ]
          },
          "metadata": {},
          "output_type": "display_data"
        },
        {
          "data": {
            "text/html": [
              "Tracking run with wandb version 0.20.1"
            ],
            "text/plain": [
              "<IPython.core.display.HTML object>"
            ]
          },
          "metadata": {},
          "output_type": "display_data"
        },
        {
          "data": {
            "text/html": [
              "Run data is saved locally in <code>c:\\Users\\Yindan\\Documents\\Bamberg4\\xAI_proj\\xAI-code\\xAI-code\\cifar10_HP_tuning\\wandb\\run-20250712_142504-azkq3dhd</code>"
            ],
            "text/plain": [
              "<IPython.core.display.HTML object>"
            ]
          },
          "metadata": {},
          "output_type": "display_data"
        },
        {
          "data": {
            "text/html": [
              "Syncing run <strong><a href='https://wandb.ai/mayindan-university-of-bamberg/cifar10-HP-tuning-final/runs/azkq3dhd' target=\"_blank\">happy-snowball-84</a></strong> to <a href='https://wandb.ai/mayindan-university-of-bamberg/cifar10-HP-tuning-final' target=\"_blank\">Weights & Biases</a> (<a href='https://wandb.me/developer-guide' target=\"_blank\">docs</a>)<br>"
            ],
            "text/plain": [
              "<IPython.core.display.HTML object>"
            ]
          },
          "metadata": {},
          "output_type": "display_data"
        },
        {
          "data": {
            "text/html": [
              " View project at <a href='https://wandb.ai/mayindan-university-of-bamberg/cifar10-HP-tuning-final' target=\"_blank\">https://wandb.ai/mayindan-university-of-bamberg/cifar10-HP-tuning-final</a>"
            ],
            "text/plain": [
              "<IPython.core.display.HTML object>"
            ]
          },
          "metadata": {},
          "output_type": "display_data"
        },
        {
          "data": {
            "text/html": [
              " View run at <a href='https://wandb.ai/mayindan-university-of-bamberg/cifar10-HP-tuning-final/runs/azkq3dhd' target=\"_blank\">https://wandb.ai/mayindan-university-of-bamberg/cifar10-HP-tuning-final/runs/azkq3dhd</a>"
            ],
            "text/plain": [
              "<IPython.core.display.HTML object>"
            ]
          },
          "metadata": {},
          "output_type": "display_data"
        }
      ],
      "source": [
        "wandb.init(\n",
        "    project=\"cifar10-HP-tuning-final\",\n",
        "    tags=[\"cifar10\", \"resnet18\", \"optimizer\", \"lr\", \"batch_size\", \"dropout\", \"weight_decay\"])\n",
        "config = wandb.config"
      ]
    },
    {
      "cell_type": "code",
      "execution_count": null,
      "metadata": {
        "colab": {
          "base_uri": "https://localhost:8080/"
        },
        "id": "D4d8Vzptq4zq",
        "outputId": "39116fae-a44e-450c-b88f-c0e8b8e6eb72"
      },
      "outputs": [
        {
          "name": "stderr",
          "output_type": "stream",
          "text": [
            "wandb: Creating sweep from: cifar10_tuning_aug_scheduler.yaml\n",
            "wandb: Creating sweep with ID: aywcwb0a"
          ]
        },
        {
          "name": "stderr",
          "output_type": "stream",
          "text": [
            "\n",
            "wandb: View sweep at: https://wandb.ai/mayindan-university-of-bamberg/cifar10-HP-tuning-final/sweeps/aywcwb0a\n",
            "wandb: Run sweep agent with: wandb agent mayindan-university-of-bamberg/cifar10-HP-tuning-final/aywcwb0a\n"
          ]
        }
      ],
      "source": [
        "!wandb sweep cifar10_tuning_aug_scheduler.yaml\n"
      ]
    },
    {
      "cell_type": "code",
      "execution_count": 20,
      "metadata": {
        "colab": {
          "base_uri": "https://localhost:8080/"
        },
        "id": "P35cf8XvrGGy",
        "outputId": "f017879c-f392-43f3-a23a-72855c341e88"
      },
      "outputs": [
        {
          "name": "stdout",
          "output_type": "stream",
          "text": [
            "^C\n"
          ]
        }
      ],
      "source": [
        "sweep_id = \"mayindan-university-of-bamberg/cifar10-HP-tuning-final/f70rnaxv\"\n",
        "!wandb agent --count 50 {sweep_id} \n"
      ]
    }
  ],
  "metadata": {
    "accelerator": "GPU",
    "colab": {
      "gpuType": "T4",
      "provenance": []
    },
    "kernelspec": {
      "display_name": "pytorchenv",
      "language": "python",
      "name": "python3"
    },
    "language_info": {
      "codemirror_mode": {
        "name": "ipython",
        "version": 3
      },
      "file_extension": ".py",
      "mimetype": "text/x-python",
      "name": "python",
      "nbconvert_exporter": "python",
      "pygments_lexer": "ipython3",
      "version": "3.11.11"
    }
  },
  "nbformat": 4,
  "nbformat_minor": 0
}
