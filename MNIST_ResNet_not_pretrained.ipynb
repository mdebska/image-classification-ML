{
  "cells": [
    {
      "cell_type": "markdown",
      "id": "cf86702b",
      "metadata": {
        "id": "cf86702b"
      },
      "source": [
        "**MNIST BL model using ResNet**"
      ]
    },
    {
      "cell_type": "code",
      "execution_count": 1,
      "id": "1f942790",
      "metadata": {
        "id": "1f942790"
      },
      "outputs": [],
      "source": [
        "import torch\n",
        "import torch.nn as nn\n",
        "\n",
        "from torchvision import datasets, transforms\n",
        "from torchvision.models import resnet18\n",
        "from torch.utils.data import DataLoader\n",
        "import torch.nn.functional as F\n",
        "import torch.optim as optim\n"
      ]
    },
    {
      "cell_type": "code",
      "execution_count": 2,
      "id": "35b54d8a",
      "metadata": {
        "id": "35b54d8a"
      },
      "outputs": [],
      "source": [
        "# check device\n",
        "\n",
        "device = torch.device('cuda' if torch.cuda.is_available() else 'cpu')"
      ]
    },
    {
      "cell_type": "code",
      "execution_count": 3,
      "id": "1f2d6968",
      "metadata": {
        "id": "1f2d6968"
      },
      "outputs": [],
      "source": [
        "# data preprocessing\n",
        "# resize to 224*224\n",
        "\n",
        "transform = transforms.Compose([\n",
        "    transforms.Resize((224,224)),\n",
        "    transforms.ToTensor(),\n",
        "    transforms.Normalize((0.5),(0.5))\n",
        "])"
      ]
    },
    {
      "cell_type": "code",
      "execution_count": 4,
      "id": "24522a4c",
      "metadata": {
        "colab": {
          "base_uri": "https://localhost:8080/"
        },
        "id": "24522a4c",
        "outputId": "09e863fe-74cc-4d46-ea38-e1358ed97fdc"
      },
      "outputs": [
        {
          "output_type": "stream",
          "name": "stderr",
          "text": [
            "100%|██████████| 9.91M/9.91M [00:01<00:00, 5.13MB/s]\n",
            "100%|██████████| 28.9k/28.9k [00:00<00:00, 58.3kB/s]\n",
            "100%|██████████| 1.65M/1.65M [00:01<00:00, 1.26MB/s]\n",
            "100%|██████████| 4.54k/4.54k [00:00<00:00, 6.70MB/s]\n"
          ]
        }
      ],
      "source": [
        "# load data\n",
        "train_dataset = datasets.MNIST(\n",
        "    root='./data', train=True, transform=transform, download=True\n",
        ")\n",
        "test_dataset = datasets.MNIST(\n",
        "    root='./data', train=False, transform=transform, download=True\n",
        ")\n",
        "\n",
        "train_loader = DataLoader(train_dataset, batch_size=64, shuffle=True, num_workers=2)\n",
        "test_loader = DataLoader(test_dataset, batch_size=1000, shuffle=False, num_workers=2)"
      ]
    },
    {
      "cell_type": "code",
      "execution_count": 5,
      "id": "e2b4f610",
      "metadata": {
        "colab": {
          "base_uri": "https://localhost:8080/"
        },
        "id": "e2b4f610",
        "outputId": "1669b1e3-927e-4ef1-f068-20fc2922b1fb"
      },
      "outputs": [
        {
          "output_type": "stream",
          "name": "stderr",
          "text": [
            "/usr/local/lib/python3.11/dist-packages/torchvision/models/_utils.py:208: UserWarning: The parameter 'pretrained' is deprecated since 0.13 and may be removed in the future, please use 'weights' instead.\n",
            "  warnings.warn(\n",
            "/usr/local/lib/python3.11/dist-packages/torchvision/models/_utils.py:223: UserWarning: Arguments other than a weight enum or `None` for 'weights' are deprecated since 0.13 and may be removed in the future. The current behavior is equivalent to passing `weights=None`.\n",
            "  warnings.warn(msg)\n"
          ]
        }
      ],
      "source": [
        "# load model\n",
        "model = resnet18(pretrained = False)"
      ]
    },
    {
      "cell_type": "code",
      "execution_count": 6,
      "id": "68bf28a1",
      "metadata": {
        "id": "68bf28a1"
      },
      "outputs": [],
      "source": [
        "# modify the model\n",
        "# conv1 greyscale\n",
        "model.conv1 = nn.Conv2d(1,64, kernel_size=7, stride=2,padding=3, bias=False)\n",
        "# altegether 10 classes\n",
        "model.fc = nn.Linear(model.fc.in_features, 10)"
      ]
    },
    {
      "cell_type": "code",
      "execution_count": 7,
      "id": "5387626a",
      "metadata": {
        "id": "5387626a"
      },
      "outputs": [],
      "source": [
        "#send to device\n",
        "model = model.to(device)"
      ]
    },
    {
      "cell_type": "code",
      "execution_count": 8,
      "id": "057a0e71",
      "metadata": {
        "id": "057a0e71"
      },
      "outputs": [],
      "source": [
        "#define loss function and optimizer\n",
        "loss_func = nn.CrossEntropyLoss()\n",
        "optimizer = optim.Adam(model.parameters(), lr = 0.001)\n"
      ]
    },
    {
      "cell_type": "code",
      "execution_count": 9,
      "id": "4feef393",
      "metadata": {
        "id": "4feef393"
      },
      "outputs": [],
      "source": [
        "# train\n",
        "\n",
        "def train(model, device, train_loader, optimizer, epoch):\n",
        "    print('Starting Training')\n",
        "    model.train()\n",
        "\n",
        "    for idx, (data, target) in enumerate(train_loader):\n",
        "\n",
        "        data, target = data.to(device), target.to(device)\n",
        "\n",
        "        optimizer.zero_grad()\n",
        "\n",
        "        outputs = model(data)  ###\n",
        "        loss = loss_func(outputs, target)\n",
        "        loss.backward()\n",
        "        optimizer.step()   ###\n",
        "\n",
        "        if idx % 100 == 0:\n",
        "            print(f'Epoch {epoch}, [{idx * len(data)}/{len(train_loader.dataset)}] loss {loss.item():.3f}')\n",
        "\n",
        "    print('Finished Training')"
      ]
    },
    {
      "cell_type": "code",
      "execution_count": 10,
      "id": "85b2d9ce",
      "metadata": {
        "id": "85b2d9ce"
      },
      "outputs": [],
      "source": [
        "# test\n",
        "def test(model, device, test_loader):\n",
        "    model.eval()\n",
        "    test_loss = 0\n",
        "    correct = 0\n",
        "\n",
        "    with torch.no_grad():\n",
        "        for data, target in test_loader:\n",
        "            data, target = data.to(device), target.to(device)\n",
        "            output = model(data)\n",
        "\n",
        "            test_loss += loss_func(output, target).item()\n",
        "            pred = output.argmax(dim=1, keepdim=True)\n",
        "            correct += pred.eq(target.view_as(pred)).sum().item()\n",
        "\n",
        "    test_loss /= len(test_loader)\n",
        "    accuracy = 100. * correct / len(test_loader.dataset)\n",
        "    print(f'\\nTest set: Average loss: {test_loss:.4f}, Accuracy: {correct}/{len(test_loader.dataset)} ({accuracy:.2f}%)\\n')"
      ]
    },
    {
      "cell_type": "code",
      "execution_count": 11,
      "id": "cc813f92",
      "metadata": {
        "colab": {
          "base_uri": "https://localhost:8080/"
        },
        "id": "cc813f92",
        "outputId": "408362df-4cb1-4acc-c37f-4cb5ae14d07f"
      },
      "outputs": [
        {
          "output_type": "stream",
          "name": "stdout",
          "text": [
            "Starting Training\n",
            "Epoch 1, [0/60000] loss 2.327\n",
            "Epoch 1, [6400/60000] loss 0.080\n",
            "Epoch 1, [12800/60000] loss 0.026\n",
            "Epoch 1, [19200/60000] loss 0.065\n",
            "Epoch 1, [25600/60000] loss 0.026\n",
            "Epoch 1, [32000/60000] loss 0.115\n",
            "Epoch 1, [38400/60000] loss 0.092\n",
            "Epoch 1, [44800/60000] loss 0.028\n",
            "Epoch 1, [51200/60000] loss 0.014\n",
            "Epoch 1, [57600/60000] loss 0.009\n",
            "Finished Training\n",
            "\n",
            "Test set: Average loss: 0.0383, Accuracy: 9854/10000 (98.54%)\n",
            "\n",
            "Starting Training\n",
            "Epoch 2, [0/60000] loss 0.037\n",
            "Epoch 2, [6400/60000] loss 0.165\n",
            "Epoch 2, [12800/60000] loss 0.018\n",
            "Epoch 2, [19200/60000] loss 0.036\n",
            "Epoch 2, [25600/60000] loss 0.020\n",
            "Epoch 2, [32000/60000] loss 0.002\n",
            "Epoch 2, [38400/60000] loss 0.022\n",
            "Epoch 2, [44800/60000] loss 0.013\n",
            "Epoch 2, [51200/60000] loss 0.037\n",
            "Epoch 2, [57600/60000] loss 0.020\n",
            "Finished Training\n",
            "\n",
            "Test set: Average loss: 0.0351, Accuracy: 9888/10000 (98.88%)\n",
            "\n",
            "Starting Training\n",
            "Epoch 3, [0/60000] loss 0.004\n",
            "Epoch 3, [6400/60000] loss 0.263\n",
            "Epoch 3, [12800/60000] loss 0.011\n",
            "Epoch 3, [19200/60000] loss 0.008\n",
            "Epoch 3, [25600/60000] loss 0.083\n",
            "Epoch 3, [32000/60000] loss 0.006\n",
            "Epoch 3, [38400/60000] loss 0.106\n",
            "Epoch 3, [44800/60000] loss 0.001\n",
            "Epoch 3, [51200/60000] loss 0.026\n",
            "Epoch 3, [57600/60000] loss 0.003\n",
            "Finished Training\n",
            "\n",
            "Test set: Average loss: 0.0320, Accuracy: 9900/10000 (99.00%)\n",
            "\n",
            "Starting Training\n",
            "Epoch 4, [0/60000] loss 0.040\n",
            "Epoch 4, [6400/60000] loss 0.042\n",
            "Epoch 4, [12800/60000] loss 0.009\n",
            "Epoch 4, [19200/60000] loss 0.001\n",
            "Epoch 4, [25600/60000] loss 0.006\n",
            "Epoch 4, [32000/60000] loss 0.036\n",
            "Epoch 4, [38400/60000] loss 0.071\n",
            "Epoch 4, [44800/60000] loss 0.015\n",
            "Epoch 4, [51200/60000] loss 0.021\n",
            "Epoch 4, [57600/60000] loss 0.020\n",
            "Finished Training\n",
            "\n",
            "Test set: Average loss: 0.0186, Accuracy: 9936/10000 (99.36%)\n",
            "\n",
            "Starting Training\n",
            "Epoch 5, [0/60000] loss 0.027\n",
            "Epoch 5, [6400/60000] loss 0.012\n",
            "Epoch 5, [12800/60000] loss 0.006\n",
            "Epoch 5, [19200/60000] loss 0.006\n",
            "Epoch 5, [25600/60000] loss 0.056\n",
            "Epoch 5, [32000/60000] loss 0.065\n",
            "Epoch 5, [38400/60000] loss 0.009\n",
            "Epoch 5, [44800/60000] loss 0.013\n",
            "Epoch 5, [51200/60000] loss 0.061\n",
            "Epoch 5, [57600/60000] loss 0.020\n",
            "Finished Training\n",
            "\n",
            "Test set: Average loss: 0.0231, Accuracy: 9923/10000 (99.23%)\n",
            "\n"
          ]
        }
      ],
      "source": [
        "# train and test\n",
        "\n",
        "for epoch in range(1,6):\n",
        "    train(model, device, train_loader, optimizer, epoch)\n",
        "    test(model, device, test_loader)"
      ]
    }
  ],
  "metadata": {
    "kernelspec": {
      "display_name": "Python 3",
      "name": "python3"
    },
    "language_info": {
      "codemirror_mode": {
        "name": "ipython",
        "version": 3
      },
      "file_extension": ".py",
      "mimetype": "text/x-python",
      "name": "python",
      "nbconvert_exporter": "python",
      "pygments_lexer": "ipython3",
      "version": "3.11.11"
    },
    "colab": {
      "provenance": [],
      "gpuType": "T4"
    },
    "accelerator": "GPU"
  },
  "nbformat": 4,
  "nbformat_minor": 5
}